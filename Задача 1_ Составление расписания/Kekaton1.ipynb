{
 "cells": [
  {
   "cell_type": "code",
   "execution_count": 1,
   "id": "7b60c88b",
   "metadata": {
    "ExecuteTime": {
     "end_time": "2023-11-24T07:21:48.122695Z",
     "start_time": "2023-11-24T07:21:46.321044Z"
    }
   },
   "outputs": [],
   "source": [
    "import numpy as np\n",
    "import matplotlib.pyplot as plt\n",
    "from tqdm import tqdm\n",
    "import scipy as scp\n",
    "from dwave.samplers import SimulatedAnnealingSampler\n",
    "import dimod\n",
    "import docx\n",
    "import hybrid"
   ]
  },
  {
   "cell_type": "markdown",
   "id": "6199ac27",
   "metadata": {},
   "source": [
    "# Создаю бинарный вектор и ввожу слагаемые штрафов/бонусов"
   ]
  },
  {
   "cell_type": "code",
   "execution_count": 2,
   "id": "b62433cb",
   "metadata": {
    "ExecuteTime": {
     "end_time": "2023-11-24T07:21:50.961399Z",
     "start_time": "2023-11-24T07:21:50.949893Z"
    }
   },
   "outputs": [],
   "source": [
    "# Чтобы не сойти с ума при написании условий, вводится функция индексирования: по сути,\n",
    "# искомый бинарный вектор |X> = |s m t d w g> [subject, professor, time, day, week, group].\n",
    "# Задавать условия удобнее в шестимерном массиве\n",
    "\n",
    "def ind(s, m, t, d, w, g):\n",
    "    i = s + 2*m + 10*t + 80*d + 480*w + 960*g\n",
    "    return i"
   ]
  },
  {
   "cell_type": "code",
   "execution_count": 4,
   "id": "8a2d537d",
   "metadata": {
    "ExecuteTime": {
     "end_time": "2023-11-24T07:25:32.911282Z",
     "start_time": "2023-11-24T07:25:31.337974Z"
    }
   },
   "outputs": [
    {
     "name": "stdout",
     "output_type": "stream",
     "text": [
      "[[ 1.2890e+03  1.2990e+03  1.1990e+03 ... -1.0000e+00 -1.0000e+00\n",
      "  -1.0000e+00]\n",
      " [ 1.2990e+03  1.2890e+03  1.1990e+03 ... -1.0000e+00 -1.0000e+00\n",
      "  -1.0000e+00]\n",
      " [ 1.1990e+03  1.1990e+03  1.1289e+04 ... -1.0000e+00 -1.0000e+00\n",
      "  -1.0000e+00]\n",
      " ...\n",
      " [-1.0000e+00 -1.0000e+00 -1.0000e+00 ...  9.8900e+02  8.9900e+02\n",
      "   8.9900e+02]\n",
      " [-1.0000e+00 -1.0000e+00 -1.0000e+00 ...  8.9900e+02  9.8900e+02\n",
      "   9.9900e+02]\n",
      " [-1.0000e+00 -1.0000e+00 -1.0000e+00 ...  8.9900e+02  9.9900e+02\n",
      "   9.8900e+02]]\n"
     ]
    }
   ],
   "source": [
    "#Матрица единичек, а то студенты вообще никуда не пойдут\n",
    "\n",
    "Q = np.zeros((1920, 1920))\n",
    "for i in range(1920):\n",
    "    for j in range(1920):\n",
    "        Q[i, j] = -1\n",
    "\n",
    "#Ограничение от преподавателей (4 условие)\n",
    "\n",
    "for g in range(2):\n",
    "    for w in range(2):\n",
    "        for t in range(8):\n",
    "            for s in range(2):\n",
    "                Q[ind(s, 0, t, 2, w, g), ind(s, 0, t, 2, w, g)] += 10000\n",
    "                Q[ind(s, 1, t, 0, w, g), ind(s, 1, t, 0, w, g)] += 10000\n",
    "                Q[ind(s, 2, t, 5, w, g), ind(s, 2, t, 5, w, g)] += 10000\n",
    "                Q[ind(s, 3, t, 1, w, g), ind(s, 3, t, 1, w, g)] += 10000\n",
    "                Q[ind(s, 4, t, 1, w, g), ind(s, 4, t, 1, w, g)] += 10000\n",
    "\n",
    "#Ограничение на количество пар в день (2 условие)\n",
    "\n",
    "for g in range(2):\n",
    "    for w in range(2):\n",
    "        for d in range(6):\n",
    "            for m1 in range(5):\n",
    "                for m2 in range(5):\n",
    "                    for s1 in range(2):\n",
    "                        for s2 in range(2):\n",
    "                            for t in range(8):\n",
    "                                for i in range(7):\n",
    "                                    Q[ind(s1, m1, t, d, w, g), ind(s2, m2, (t + 1 + i) % 6, d, w, g)] += 300\n",
    "                            \n",
    "#Ограничение на количество пар по одному предмету в день (3 условие)\n",
    "\n",
    "for g in range(2):\n",
    "    for w in range(2):\n",
    "        for d in range(6):\n",
    "            for m in range(5):\n",
    "                for s in range(2):\n",
    "                    for t in range(8):\n",
    "                        for i in range(7):\n",
    "                            Q[ind(s, m, t, d, w, g), ind(s, m, (t + 1 + i) % 8, d, w, g)] += 5000\n",
    "                            \n",
    "#Буст, чтобы студенты вообще ходили на пары (условие на 4 пары)\n",
    "\n",
    "for g in range(2):\n",
    "    for w in range(2):\n",
    "        for d1 in range(6):\n",
    "            for m in range(5):\n",
    "                for s in range(2):\n",
    "                    for t1 in range(8):\n",
    "                        for d2 in range(5):\n",
    "                            for t2 in range(8):\n",
    "                                Q[ind(s, m, t1, d1, w, g), ind(s, m, t2, (d1 + d2 + 1) % 6, w, g)] -= 1\n",
    "                                \n",
    "#Ограничение на ведение пары в двух группах одновременно (хоть условий таких и не было, вдруг там поточная :))\n",
    "\n",
    "for w in range(2):\n",
    "    for d in range(6):\n",
    "        for m in range(5):\n",
    "            for s1 in range(2):\n",
    "                for t in range(8):\n",
    "                    for g in range(2):\n",
    "                        for s2 in range(2):\n",
    "                            Q[ind(s1, m, t, d, w, g), ind(s2, m, t, d, w, (g + 1) % 2)] += 100\n",
    "                            \n",
    "#Ограничение на одновременные пары у группы\n",
    "\n",
    "for g in range(2):\n",
    "    for w in range(2):\n",
    "        for d in range(6):\n",
    "            for m1 in range(5):\n",
    "                for m2 in range(5):\n",
    "                    for s1 in range(2):\n",
    "                        for s2 in range(2):\n",
    "                            for t in range(8): \n",
    "                                Q[ind(s1, m1, t, d, w, g), ind(s2, m2, t, d, w, g)] += 1000\n",
    "                                Q[ind(s1, m1, t, d, w, g), ind(s1, m1, t, d, w, g)] -= 1\n",
    "                            \n",
    "#Добавки для расплывчатости расписания\n",
    "\n",
    "for g in range(2):\n",
    "    for w in range(2):\n",
    "        for d in range(6):\n",
    "            for m1 in range(5):\n",
    "                for s1 in range(2):\n",
    "                    for t1 in range(8):\n",
    "                        for t2 in range(8):\n",
    "                            for m2 in range(5):\n",
    "                                for s2 in range(2):\n",
    "                                    Q[ind(s1, m1, t, d1, w, g), ind(s2, m2, t, d2, w, (g + 1) % 2)] -= 1\n",
    "\n",
    "for g in range(2):\n",
    "    for w in range(2):\n",
    "        for d in range(6):\n",
    "            for m1 in range(5):\n",
    "                for s1 in range(2):\n",
    "                    for t1 in range(8):\n",
    "                        for t2 in range(8):\n",
    "                            for m2 in range(5):\n",
    "                                for s2 in range(2):\n",
    "                                    Q[ind(s1, m1, t, d1, w, g), ind(s2, m2, t, d2, (w + 1) % 2, g)] -= 10\n",
    "                                    \n",
    "for g in range(2):\n",
    "    for w in range(2):\n",
    "        for d in range(6):\n",
    "            for m1 in range(5):\n",
    "                for s1 in range(2):\n",
    "                    for t in range(8):\n",
    "                        for m2 in range(4):\n",
    "                            for s2 in range(2):\n",
    "                                Q[ind(s1, m1, t, d, w, g), ind(s2, (m1 + m2 + 1) % 5, t, d, w, g)] -= 100                    \n",
    "                        \n",
    "\n",
    "print(Q)"
   ]
  },
  {
   "cell_type": "markdown",
   "id": "ddee29c4",
   "metadata": {},
   "source": [
    "# Минимизация вектора через библиотеку от dwave"
   ]
  },
  {
   "cell_type": "code",
   "execution_count": 5,
   "id": "bf98071b",
   "metadata": {
    "ExecuteTime": {
     "end_time": "2023-11-24T07:25:46.350538Z",
     "start_time": "2023-11-24T07:25:35.734053Z"
    }
   },
   "outputs": [],
   "source": [
    "sampler = SimulatedAnnealingSampler()\n",
    "qubo = Q\n",
    "sampleset = sampler.sample_qubo(qubo, num_reads = 10)"
   ]
  },
  {
   "cell_type": "code",
   "execution_count": 6,
   "id": "5ed705f3",
   "metadata": {
    "ExecuteTime": {
     "end_time": "2023-11-24T07:25:49.122182Z",
     "start_time": "2023-11-24T07:25:49.092932Z"
    }
   },
   "outputs": [],
   "source": [
    "#сборка бинарного вектора в шестимерный массив, для того же удобства теперь уже при создании таблицы\n",
    "\n",
    "a = sampleset.first.sample\n",
    "Table = np.zeros((((((2, 5, 6, 8, 2, 2))))))\n",
    "for i in range(1920):\n",
    "    Table[i // 960, (i % 960) // 192, (i % 192) // 32, (i % 32) // 4, (i % 4) // 2, i % 2] = a[i]"
   ]
  },
  {
   "cell_type": "code",
   "execution_count": 7,
   "id": "550bb797",
   "metadata": {
    "ExecuteTime": {
     "end_time": "2023-11-24T07:25:55.561182Z",
     "start_time": "2023-11-24T07:25:55.531682Z"
    }
   },
   "outputs": [
    {
     "name": "stdout",
     "output_type": "stream",
     "text": [
      "40 40 32 48\n"
     ]
    }
   ],
   "source": [
    "#Окно проверки на адекватность\n",
    "\n",
    "(n1, n2, n3, n4) = (0, 0, 0, 0)\n",
    "\n",
    "for g in range(2):\n",
    "    for w in range(2):\n",
    "        for t in range(8):\n",
    "            for d in range(6):\n",
    "                for m in range(5):\n",
    "                    for s in range(2):\n",
    "                        if Table[s, m, d, t, w, g] == 1:\n",
    "                            if g == 0:\n",
    "                                n1 += 1\n",
    "                            else:\n",
    "                                n2 += 1\n",
    "                            if w == 0:\n",
    "                                n3 += 1\n",
    "                            else:\n",
    "                                n4 += 1\n",
    "                                \n",
    "print(n1, n2, n3, n4)"
   ]
  },
  {
   "cell_type": "markdown",
   "id": "e43cc30d",
   "metadata": {},
   "source": [
    "# Собираю таблицу данных на основе минимизированного вектора"
   ]
  },
  {
   "cell_type": "code",
   "execution_count": 9,
   "id": "5bf322a4",
   "metadata": {
    "ExecuteTime": {
     "end_time": "2023-11-24T07:31:48.329710Z",
     "start_time": "2023-11-24T07:31:41.597196Z"
    }
   },
   "outputs": [],
   "source": [
    "#Собираем таблицу\n",
    "\n",
    "doc = docx.Document()\n",
    "table = doc.add_table(rows = n1 + n2 + 1, cols = 7)\n",
    "table.stile = 'Table Grid'\n",
    "\n",
    "day = ('Monday', 'Tuesday', 'Wednesday', 'Thursday', 'Friday', 'Saturday')\n",
    "time = ('09:00 - 10:00', '10:00 - 11:00', '11:00 - 12:00', '12:00 - 13:00', '13:00 - 14:00', '14:00 - 15:00', '15:00 - 16:00', '16:00 - 17:00')\n",
    "name = ('Иванов', 'Петров', 'Сидоров', 'Карпов', 'Соколов')\n",
    "subject = ('Квантовая механика', 'Квантовая теория информации', 'Квантовые вычисления', 'Сложность квантовых алгоритмов', \n",
    "           'Квантовые алгоритмы в логистике', 'Квантовое машинное обучение', 'Моделирование квантовых систем', \n",
    "           'Квантовые алгоритмы в химии', 'Физическая реализация квантовых компьютеров', 'Моделирование квантовых алгоритмов')\n",
    "\n",
    "(col, row) = (1, 1)\n",
    "table.cell(0, 1).text = str('Group')\n",
    "table.cell(0, 2).text = str('Week')\n",
    "table.cell(0, 3).text = str('Day')\n",
    "table.cell(0, 4).text = str('Hours')\n",
    "table.cell(0, 5).text = str('Subject')\n",
    "table.cell(0, 6).text = str('Name')\n",
    "\n",
    "for i in range(n1 + n2 + 1):\n",
    "    table.cell(i, 0).text = str(i)\n",
    "    \n",
    "for g in range(2):\n",
    "    for w in range(2):\n",
    "        for d in range(6):\n",
    "            for t in range(8):\n",
    "                for m in range(5):\n",
    "                    for s in range(2):\n",
    "                        if Table[s, m, d, t, w, g] == 1:\n",
    "                            table.cell(row, 1).text = str('QC' + str(g + 1))\n",
    "                            table.cell(row, 2).text = str('Week' + str(w + 1))\n",
    "                            table.cell(row, 3).text = str(day[d])\n",
    "                            table.cell(row, 4).text = str(time[t])\n",
    "                            table.cell(row, 5).text = str(subject[2*m+s])\n",
    "                            table.cell(row, 6).text = str(name[m])\n",
    "                            row += 1\n",
    "\n",
    "\n",
    "doc.save('C:\\\\Users\\\\pasht\\\\Desktop\\\\Table.docx')"
   ]
  }
 ],
 "metadata": {
  "kernelspec": {
   "display_name": "Python 3 (ipykernel)",
   "language": "python",
   "name": "python3"
  },
  "language_info": {
   "codemirror_mode": {
    "name": "ipython",
    "version": 3
   },
   "file_extension": ".py",
   "mimetype": "text/x-python",
   "name": "python",
   "nbconvert_exporter": "python",
   "pygments_lexer": "ipython3",
   "version": "3.9.13"
  },
  "toc": {
   "base_numbering": 1,
   "nav_menu": {},
   "number_sections": true,
   "sideBar": true,
   "skip_h1_title": false,
   "title_cell": "Table of Contents",
   "title_sidebar": "Contents",
   "toc_cell": false,
   "toc_position": {},
   "toc_section_display": true,
   "toc_window_display": false
  },
  "varInspector": {
   "cols": {
    "lenName": 16,
    "lenType": 16,
    "lenVar": 40
   },
   "kernels_config": {
    "python": {
     "delete_cmd_postfix": "",
     "delete_cmd_prefix": "del ",
     "library": "var_list.py",
     "varRefreshCmd": "print(var_dic_list())"
    },
    "r": {
     "delete_cmd_postfix": ") ",
     "delete_cmd_prefix": "rm(",
     "library": "var_list.r",
     "varRefreshCmd": "cat(var_dic_list()) "
    }
   },
   "types_to_exclude": [
    "module",
    "function",
    "builtin_function_or_method",
    "instance",
    "_Feature"
   ],
   "window_display": false
  }
 },
 "nbformat": 4,
 "nbformat_minor": 5
}
